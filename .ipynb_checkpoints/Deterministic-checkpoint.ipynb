{
 "cells": [
  {
   "cell_type": "code",
   "execution_count": 1,
   "metadata": {},
   "outputs": [],
   "source": [
    "from torchvision import models, transforms , utils\n",
    "import torch\n",
    "import numpy as np\n",
    "import os\n",
    "import pathlib\n",
    "import PIL\n",
    "from tqdm import tqdm\n",
    "from ipywidgets import IntProgress\n",
    "import matplotlib.pyplot as plt\n",
    "import numpy as np\n",
    "from livelossplot import PlotLosses\n",
    "import torch.nn.functional as F\n",
    "import seaborn as sns\n",
    "import pandas as pd\n",
    "#from sklearn.metrics import confusion_matrix, classification_report ,roc_curve\n",
    "from torch.autograd import Variable\n",
    "from sklearn.metrics import auc\n",
    "\n"
   ]
  },
  {
   "cell_type": "markdown",
   "metadata": {},
   "source": [
    "# Fix seeds to ensure reproducibility"
   ]
  },
  {
   "cell_type": "code",
   "execution_count": 2,
   "metadata": {},
   "outputs": [
    {
     "data": {
      "text/plain": [
       "<torch._C.Generator at 0x27046ecc4f0>"
      ]
     },
     "execution_count": 2,
     "metadata": {},
     "output_type": "execute_result"
    }
   ],
   "source": [
    "torch.backends.cudnn.deterministic = True\n",
    "torch.backends.cudnn.benchmark = False\n",
    "np.random.seed(0)\n",
    "torch.manual_seed(0)"
   ]
  },
  {
   "cell_type": "markdown",
   "metadata": {},
   "source": [
    "### Define torch dataset\n",
    "This class cares about the loading the data for the training."
   ]
  },
  {
   "cell_type": "markdown",
   "metadata": {},
   "source": [
    "### Loader with class ids"
   ]
  },
  {
   "cell_type": "code",
   "execution_count": 3,
   "metadata": {},
   "outputs": [],
   "source": [
    "def find_classes(dir):\n",
    "    classes = [d for d in os.listdir(dir) if os.path.isdir(os.path.join(dir, d))]\n",
    "    classes.sort()\n",
    "    class_to_idx = {classes[i]: i for i in range(len(classes))}\n",
    "    return classes, class_to_idx\n",
    "\n",
    "class CheckBoxDataset(torch.utils.data.Dataset):\n",
    "    \"\"\"Checkbox dataset.\"\"\"\n",
    "    def __init__(self, root_dir: pathlib.Path, transform=None):\n",
    "        \"\"\"\n",
    "        Args:\n",
    "            root_dir (string): Directory with all the images.\n",
    "            transform (callable, optional): Optional transform to be applied\n",
    "                on a sample.\n",
    "        \"\"\"    \n",
    "        self.paths = []\n",
    "\n",
    "        self.folder_labels = {\"empty\": 0, \"filled\": 1, \"no-checkbox\": 2}\n",
    "\n",
    "        for sub_dir in self.folder_labels.keys():\n",
    "            cur_dir = root_dir / sub_dir\n",
    "            for file in cur_dir.glob(\"*.png\"):\n",
    "                self.paths.append(file)\n",
    "                \n",
    "        classes, class_to_idx = find_classes(root_dir)  \n",
    "        self.classes = classes\n",
    "        self.class_to_idx = class_to_idx\n",
    "                                  \n",
    "        self.transform = transform\n",
    "        assert self.paths\n",
    "\n",
    "    def __len__(self):\n",
    "        return len(self.paths)\n",
    "\n",
    "    def __getitem__(self, idx):\n",
    "        if torch.is_tensor(idx):\n",
    "            idx = idx.tolist()\n",
    "\n",
    "        img_name = self.paths[idx]    \n",
    "        label = self.folder_labels[str(self.paths[idx].parent).rsplit(\"\\\\\",1)[-1]]\n",
    "        image = PIL.Image.open(img_name)\n",
    "        \n",
    "        if image.mode != \"RGB\":\n",
    "            image = image.convert(\"RGB\")\n",
    "\n",
    "        if self.transform:\n",
    "            image = self.transform(image)    \n",
    "        else:\n",
    "            image = transforms.ToTensor()(image)  \n",
    "        \n",
    "        return image, label "
   ]
  },
  {
   "cell_type": "markdown",
   "metadata": {},
   "source": [
    "### Original loader "
   ]
  },
  {
   "cell_type": "code",
   "execution_count": 4,
   "metadata": {},
   "outputs": [],
   "source": [
    "class CheckBoxDataset(torch.utils.data.Dataset):\n",
    "    \"\"\"Checkbox dataset.\"\"\"\n",
    "    def __init__(self, root_dir: pathlib.Path, transform=None):\n",
    "        \"\"\"\n",
    "        Args:\n",
    "            root_dir (string): Directory with all the images.\n",
    "            transform (callable, optional): Optional transform to be applied\n",
    "                on a sample.\n",
    "        \"\"\"    \n",
    "        self.paths = []\n",
    "\n",
    "        self.folder_labels = {\"empty\": 0, \"filled\": 1, \"no-checkbox\": 2}\n",
    "\n",
    "        for sub_dir in self.folder_labels.keys():\n",
    "            cur_dir = root_dir / sub_dir\n",
    "            for file in cur_dir.glob(\"*.png\"):\n",
    "                self.paths.append(file)\n",
    "                                  \n",
    "        self.transform = transform\n",
    "        assert self.paths\n",
    "\n",
    "    def __len__(self):\n",
    "        return len(self.paths)\n",
    "\n",
    "    def __getitem__(self, idx):\n",
    "        if torch.is_tensor(idx):\n",
    "            idx = idx.tolist()\n",
    "\n",
    "        img_name = self.paths[idx]    \n",
    "        label = self.folder_labels[str(self.paths[idx].parent).rsplit(\"\\\\\",1)[-1]]\n",
    "        image = PIL.Image.open(img_name)\n",
    "        \n",
    "        if image.mode != \"RGB\":\n",
    "            image = image.convert(\"RGB\")\n",
    "\n",
    "        if self.transform:\n",
    "            image = self.transform(image)    \n",
    "        else:\n",
    "            image = transforms.ToTensor()(image)  \n",
    "        \n",
    "        return image, label "
   ]
  },
  {
   "cell_type": "markdown",
   "metadata": {},
   "source": [
    "# Main parameters for training"
   ]
  },
  {
   "cell_type": "code",
   "execution_count": 5,
   "metadata": {},
   "outputs": [],
   "source": [
    "batch_size = 8\n",
    "num_workers = 0\n",
    "shuffle = True\n",
    "lr = 3e-4\n",
    "epochs = 15\n",
    "device = torch.device(\"cuda\")\n",
    "mean = [0.8372, 0.8372, 0.8375]\n",
    "std = [0.2755, 0.2757, 0.2748]\n",
    "drop_out = 0.3\n",
    "n_output = 3\n",
    "size = (64,64)"
   ]
  },
  {
   "cell_type": "markdown",
   "metadata": {},
   "source": [
    "### Path to data directories       \n",
    "You have the add the content of \n",
    "<pre><code>checkbox_data_021120.zip\n",
    "</code></pre>"
   ]
  },
  {
   "cell_type": "code",
   "execution_count": 6,
   "metadata": {},
   "outputs": [],
   "source": [
    "training_data = pathlib.Path(\"D:/Code/Python/Checkbox/checkbox_data_021120/train/\")\n",
    "test_data = pathlib.Path(\"D:/Code/Python/Checkbox/checkbox_data_021120/test/\")\n",
    "\n"
   ]
  },
  {
   "cell_type": "markdown",
   "metadata": {},
   "source": [
    "### Transformation for training and test"
   ]
  },
  {
   "cell_type": "code",
   "execution_count": 7,
   "metadata": {},
   "outputs": [],
   "source": [
    "train_pipelines = transforms.Compose([transforms.Resize(size=size),\n",
    "                                      transforms.RandomRotation(degrees=90),\n",
    "                                      transforms.ColorJitter(brightness=0.9, contrast=0.5, saturation=0.9, hue=0.5),\n",
    "                                      transforms.RandomGrayscale(),\n",
    "                                      transforms.RandomHorizontalFlip(),\n",
    "                                      transforms.RandomVerticalFlip(),\n",
    "                                      transforms.ToTensor(),\n",
    "                                      transforms.Normalize(mean=mean,std=std)])\n",
    "\n",
    "test_pipelines = transforms.Compose([transforms.Resize(size=size),\n",
    "                                     transforms.ToTensor(),\n",
    "                                     transforms.Normalize(mean=mean,std=std)])"
   ]
  },
  {
   "cell_type": "markdown",
   "metadata": {},
   "source": [
    "### Instantiation of data sets with transformations from above "
   ]
  },
  {
   "cell_type": "code",
   "execution_count": 8,
   "metadata": {},
   "outputs": [],
   "source": [
    "train_dataset = CheckBoxDataset(training_data, transform=train_pipelines)\n",
    "test_dataset = CheckBoxDataset(test_data, transform=test_pipelines)\n",
    "\n",
    "\n"
   ]
  },
  {
   "cell_type": "code",
   "execution_count": 8,
   "metadata": {},
   "outputs": [
    {
     "data": {
      "text/plain": [
       "{'empty': 0, 'filled': 1, 'no-checkbox': 2}"
      ]
     },
     "execution_count": 8,
     "metadata": {},
     "output_type": "execute_result"
    }
   ],
   "source": [
    "train_dataset.class_to_idx"
   ]
  },
  {
   "cell_type": "code",
   "execution_count": 9,
   "metadata": {},
   "outputs": [
    {
     "data": {
      "text/plain": [
       "{0: 'empty', 1: 'filled', 2: 'no-checkbox'}"
      ]
     },
     "execution_count": 9,
     "metadata": {},
     "output_type": "execute_result"
    }
   ],
   "source": [
    "idx2class = {v: k for k, v in train_dataset.class_to_idx.items()}\n",
    "idx2class"
   ]
  },
  {
   "cell_type": "code",
   "execution_count": 10,
   "metadata": {},
   "outputs": [
    {
     "data": {
      "text/plain": [
       "Text(0.5, 1.0, 'Entire Dataset (before train/test loader)')"
      ]
     },
     "execution_count": 10,
     "metadata": {},
     "output_type": "execute_result"
    },
    {
     "data": {
      "image/png": "[encoded data removed]",
      "text/plain": [
       "<Figure size 576x576 with 1 Axes>"
      ]
     },
     "metadata": {
      "needs_background": "light"
     },
     "output_type": "display_data"
    }
   ],
   "source": [
    "def get_class_distribution(dataset_obj):\n",
    "    count_dict = {k:0 for k,v in dataset_obj.class_to_idx.items()}\n",
    "    for _, label_id in dataset_obj:\n",
    "        label = idx2class[label_id]\n",
    "        count_dict[label] += 1\n",
    "    return count_dict\n",
    "def plot_from_dict(dict_obj, plot_title, **kwargs):\n",
    "    return sns.barplot(data = pd.DataFrame.from_dict([dict_obj]).melt(), x = \"variable\", y=\"value\", hue=\"variable\", **kwargs).set_title(plot_title)\n",
    "plt.figure(figsize=(8,8))\n",
    "plot_from_dict(get_class_distribution(train_dataset), plot_title=\"Entire Dataset (before train/test loader)\")"
   ]
  },
  {
   "cell_type": "code",
   "execution_count": 11,
   "metadata": {},
   "outputs": [],
   "source": [
    "def get_class_distribution_loaders(dataloader_obj, dataset_obj):\n",
    "    count_dict = {k:0 for k,v in dataset_obj.class_to_idx.items()}\n",
    "    if dataloader_obj.batch_size == 1:    \n",
    "        for _,label_id in dataloader_obj:\n",
    "            y_idx = label_id.item()\n",
    "            y_lbl = idx2class[y_idx]\n",
    "            count_dict[str(y_lbl)] += 1\n",
    "    else: \n",
    "        for _,label_id in dataloader_obj:\n",
    "            for idx in label_id:\n",
    "                y_idx = idx.item()\n",
    "                y_lbl = idx2class[y_idx]\n",
    "                count_dict[str(y_lbl)] += 1\n",
    "    return count_dict"
   ]
  },
  {
   "cell_type": "markdown",
   "metadata": {},
   "source": [
    "### Instantiation of data loaders for parallel data providing"
   ]
  },
  {
   "cell_type": "code",
   "execution_count": 9,
   "metadata": {},
   "outputs": [],
   "source": [
    "train_loader = torch.utils.data.DataLoader(train_dataset,\n",
    "                                           batch_size=batch_size,\n",
    "                                           num_workers=num_workers,\n",
    "                                           shuffle=shuffle)"
   ]
  },
  {
   "cell_type": "code",
   "execution_count": 10,
   "metadata": {},
   "outputs": [],
   "source": [
    "test_loader = torch.utils.data.DataLoader(test_dataset,\n",
    "                                          batch_size=batch_size,\n",
    "                                          num_workers=num_workers)"
   ]
  },
  {
   "cell_type": "code",
   "execution_count": 14,
   "metadata": {},
   "outputs": [
    {
     "data": {
      "text/plain": [
       "Text(0.5, 1.0, 'Val Set')"
      ]
     },
     "execution_count": 14,
     "metadata": {},
     "output_type": "execute_result"
    },
    {
     "data": {
      "image/png": "[encoded data removed]",
      "text/plain": [
       "<Figure size 1296x504 with 2 Axes>"
      ]
     },
     "metadata": {
      "needs_background": "light"
     },
     "output_type": "display_data"
    }
   ],
   "source": [
    "fig, axes = plt.subplots(nrows=1, ncols=2, figsize=(18,7))\n",
    "plot_from_dict(get_class_distribution_loaders(train_loader, train_dataset), plot_title=\"Train Set\", ax=axes[0])\n",
    "plot_from_dict(get_class_distribution_loaders(test_loader, test_dataset), plot_title=\"Val Set\", ax=axes[1])"
   ]
  },
  {
   "cell_type": "code",
   "execution_count": 11,
   "metadata": {},
   "outputs": [],
   "source": [
    "dataloaders = {\n",
    "    \"train\": train_loader,\n",
    "    \"test\": test_loader\n",
    "}\n"
   ]
  },
  {
   "cell_type": "markdown",
   "metadata": {},
   "source": [
    "### Definition of model architecture"
   ]
  },
  {
   "cell_type": "code",
   "execution_count": 12,
   "metadata": {},
   "outputs": [],
   "source": [
    "class CheckBoxClassifier(torch.nn.Module):\n",
    "    def __init__(self, n_output, drop_out):\n",
    "        super().__init__()\n",
    "        self.feature_extractor = torch.nn.Sequential(torch.nn.Conv2d(in_channels=3,\n",
    "                                                                     out_channels=8,\n",
    "                                                                     kernel_size=3,\n",
    "                                                                     stride=2,\n",
    "                                                                     padding=1,\n",
    "                                                                     bias=True),\n",
    "                                                     torch.nn.ReLU(inplace=True),\n",
    "                                                     torch.nn.Conv2d(in_channels=8,\n",
    "                                                                     out_channels=64,\n",
    "                                                                     kernel_size=3,\n",
    "                                                                     stride=2,\n",
    "                                                                     padding=1,\n",
    "                                                                     bias=True),\n",
    "                                                     torch.nn.ReLU(inplace=True))\n",
    "\n",
    "        self.max_pool = torch.nn.MaxPool2d(kernel_size=2)\n",
    "        self.flatten = torch.nn.Flatten()\n",
    "\n",
    "        self.classifier = torch.nn.Sequential(torch.nn.Linear(4096,n_output,),\n",
    "                                              torch.nn.Dropout(p=drop_out),\n",
    "                                              torch.nn.LogSoftmax(dim=1))\n",
    "        \n",
    "    def forward(self,x):\n",
    "        x = self.feature_extractor(x)\n",
    "        x = self.max_pool(x)      \n",
    "        x = self.flatten(x)\n",
    "        x = self.classifier(x)\n",
    "        return x \n"
   ]
  },
  {
   "cell_type": "markdown",
   "metadata": {},
   "source": [
    "### Use pretrained resnet as mode"
   ]
  },
  {
   "cell_type": "code",
   "execution_count": 11,
   "metadata": {},
   "outputs": [],
   "source": [
    "model = models.resnet50(pretrained=True)\n",
    "num_ftrs = model.fc.in_features\n",
    "model.fc = torch.nn.Linear(num_ftrs, n_output)"
   ]
  },
  {
   "cell_type": "code",
   "execution_count": 13,
   "metadata": {},
   "outputs": [],
   "source": [
    "model = CheckBoxClassifier(n_output=n_output, drop_out=drop_out)"
   ]
  },
  {
   "cell_type": "code",
   "execution_count": 14,
   "metadata": {},
   "outputs": [
    {
     "data": {
      "text/plain": [
       "CheckBoxClassifier(\n",
       "  (feature_extractor): Sequential(\n",
       "    (0): Conv2d(3, 8, kernel_size=(3, 3), stride=(2, 2), padding=(1, 1))\n",
       "    (1): ReLU(inplace=True)\n",
       "    (2): Conv2d(8, 64, kernel_size=(3, 3), stride=(2, 2), padding=(1, 1))\n",
       "    (3): ReLU(inplace=True)\n",
       "  )\n",
       "  (max_pool): MaxPool2d(kernel_size=2, stride=2, padding=0, dilation=1, ceil_mode=False)\n",
       "  (flatten): Flatten()\n",
       "  (classifier): Sequential(\n",
       "    (0): Linear(in_features=4096, out_features=3, bias=True)\n",
       "    (1): Dropout(p=0.3, inplace=False)\n",
       "    (2): LogSoftmax()\n",
       "  )\n",
       ")"
      ]
     },
     "execution_count": 14,
     "metadata": {},
     "output_type": "execute_result"
    }
   ],
   "source": [
    "model"
   ]
  },
  {
   "cell_type": "code",
   "execution_count": 16,
   "metadata": {},
   "outputs": [],
   "source": [
    "torch.save(best_model_weights, \"best_model_resnet50.pkl\")"
   ]
  },
  {
   "cell_type": "markdown",
   "metadata": {},
   "source": [
    "## Use the Below Code for testing"
   ]
  },
  {
   "cell_type": "code",
   "execution_count": 8,
   "metadata": {},
   "outputs": [
    {
     "data": {
      "text/plain": [
       "<All keys matched successfully>"
      ]
     },
     "execution_count": 8,
     "metadata": {},
     "output_type": "execute_result"
    }
   ],
   "source": [
    "model1 = models.resnet50()\n",
    "num_ftrs = model1.fc.in_features\n",
    "model1.fc = torch.nn.Linear(num_ftrs, n_output) \n",
    "\n",
    "model1.load_state_dict(torch.load(\"./best_model_resnet50.pkl\"))"
   ]
  },
  {
   "cell_type": "markdown",
   "metadata": {},
   "source": [
    "### Modified for visualization"
   ]
  },
  {
   "cell_type": "code",
   "execution_count": 15,
   "metadata": {},
   "outputs": [],
   "source": [
    "accuracy_stats = {\n",
    "    'train': [],\n",
    "    \"test\": []\n",
    "}\n",
    "loss_stats = {\n",
    "    'train': [],\n",
    "    \"test\": []\n",
    "}\n"
   ]
  },
  {
   "cell_type": "code",
   "execution_count": 16,
   "metadata": {},
   "outputs": [],
   "source": [
    "def train_model(model, criterion, optimizer, num_epochs):\n",
    "    train_loss, val_loss = [], []\n",
    "    train_acc, val_acc = [], []\n",
    "    \n",
    "    times_per_iteration = []\n",
    "    model = model.to(device)\n",
    "    scheduler = torch.optim.lr_scheduler.OneCycleLR(optimizer, max_lr=lr, steps_per_epoch=len(train_loader), epochs=epochs)\n",
    "\n",
    "    best_acc = 0.9822576649117374\n",
    "    \n",
    "    \n",
    "    for epoch in range(num_epochs):\n",
    "        logs = {}\n",
    "        torch.cuda.synchronize()  # wait for move to complete\n",
    "        start = torch.cuda.Event(enable_timing=True)\n",
    "        end = torch.cuda.Event(enable_timing=True)\n",
    "        start.record()\n",
    "        for phase in ['train', 'test']:\n",
    "            if phase == 'train':\n",
    "                model.train()\n",
    "            else:\n",
    "                model.eval()\n",
    "\n",
    "            running_loss = 0.0\n",
    "            running_corrects = 0\n",
    "\n",
    "            for inputs, labels in tqdm(dataloaders[phase]):\n",
    "                inputs = inputs.to(device)\n",
    "                labels = labels.to(device)\n",
    "\n",
    "                outputs = model(inputs)\n",
    "                loss = criterion(outputs, labels)\n",
    "\n",
    "                if phase == 'train':\n",
    "                    optimizer.zero_grad()\n",
    "                    loss.backward()\n",
    "                    optimizer.step()\n",
    "                    scheduler.step()\n",
    "\n",
    "                _, preds = torch.max(outputs, 1)\n",
    "                running_loss += loss.detach() * inputs.size(0)\n",
    "                running_corrects += torch.sum(preds == labels.data)\n",
    "\n",
    "            epoch_loss = running_loss / len(dataloaders[phase].dataset)\n",
    "            epoch_acc = running_corrects.float() / len(dataloaders[phase].dataset)\n",
    "            #print(f\"Epoch: ({epoch} / {num_epochs}): Avg Train Loss: {sum(train_loss) / len(train_loss)}\")\n",
    "            \n",
    "            \n",
    "            if phase == 'test':\n",
    "                loss_stats['test'].append(epoch_loss.item())\n",
    "                accuracy_stats['test'].append(epoch_acc.item())\n",
    "                val_loss.append(epoch_loss.item())\n",
    "                val_acc.append(epoch_acc.item())\n",
    "                if (epoch_acc.item()) > best_acc:\n",
    "                    best_model_weights = model.state_dict()\n",
    "                    best_acc = epoch_acc.item()\n",
    "                    \n",
    "    \n",
    "            else:\n",
    "                loss_stats['train'].append(epoch_loss.item())\n",
    "                accuracy_stats['train'].append(epoch_acc.item())\n",
    "                train_loss.append(epoch_loss.item())\n",
    "                train_acc.append(epoch_acc.item())\n",
    "        \n",
    "        torch.cuda.synchronize()  # wait for all_reduce to complete\n",
    "        end.record()\n",
    "        torch.cuda.synchronize()  # need to wait once more for op to finish\n",
    "        times_per_iteration.append(start.elapsed_time(end))\n",
    "        print(f\"Epoch: ({epoch} / {epochs}): Train acc:{train_acc} Avg Train Loss: {sum(train_loss) / len(train_loss)} Val Loss: {sum(val_loss) / len(val_loss)} Val Acc: {val_acc}\")       \n",
    "        #print(f'Epoch {e+0:02}: | Train Loss: {train_epoch_loss/len(train_loader):.5f} | Val Loss: {val_epoch_loss/len(test_loader):.5f} | Train Acc: {train_epoch_acc/len(train_loader):.3f}| Val Acc: {val_epoch_acc/len(test_loader):.3f}')           \n",
    "    #return train_loss, train_acc, val_loss, val_acc\n",
    "    return loss_stats, accuracy_stats,best_model_weights,times_per_iteration"
   ]
  },
  {
   "cell_type": "code",
   "execution_count": 17,
   "metadata": {},
   "outputs": [],
   "source": [
    "optimizer = torch.optim.AdamW(model.parameters(),lr=lr)\n",
    "\n",
    "#scheduler = torch.optim.lr_scheduler.OneCycleLR(optimizer, max_lr=lr, steps_per_epoch=len(train_loader), epochs=epochs)\n",
    "\n",
    "criterion = torch.nn.CrossEntropyLoss()\n",
    "   \n"
   ]
  },
  {
   "cell_type": "code",
   "execution_count": 18,
   "metadata": {},
   "outputs": [
    {
     "name": "stderr",
     "output_type": "stream",
     "text": [
      "100%|██████████████████████████████████████████████████████████████████████████████| 2698/2698 [07:44<00:00,  5.81it/s]\n",
      "100%|██████████████████████████████████████████████████████████████████████████████| 1239/1239 [00:52<00:00, 23.63it/s]\n",
      "  0%|                                                                                 | 3/2698 [00:00<01:44, 25.78it/s]"
     ]
    },
    {
     "name": "stdout",
     "output_type": "stream",
     "text": [
      "Epoch: (0 / 15): Train acc:[0.6179795861244202] Avg Train Loss: 0.9281145930290222 Val Loss: 0.7339357137680054 Val Acc: [0.7138532996177673]\n"
     ]
    },
    {
     "name": "stderr",
     "output_type": "stream",
     "text": [
      "100%|██████████████████████████████████████████████████████████████████████████████| 2698/2698 [00:48<00:00, 56.14it/s]\n",
      "100%|█████████████████████████████████████████████████████████████████████████████| 1239/1239 [00:07<00:00, 162.64it/s]\n",
      "  0%|▏                                                                                | 8/2698 [00:00<00:38, 70.39it/s]"
     ]
    },
    {
     "name": "stdout",
     "output_type": "stream",
     "text": [
      "Epoch: (1 / 15): Train acc:[0.6179795861244202, 0.6507413983345032] Avg Train Loss: 0.8772629201412201 Val Loss: 0.6360325217247009 Val Acc: [0.7138532996177673, 0.868731677532196]\n"
     ]
    },
    {
     "name": "stderr",
     "output_type": "stream",
     "text": [
      "100%|██████████████████████████████████████████████████████████████████████████████| 2698/2698 [00:36<00:00, 74.12it/s]\n",
      "100%|█████████████████████████████████████████████████████████████████████████████| 1239/1239 [00:07<00:00, 169.28it/s]\n",
      "  0%|▏                                                                                | 8/2698 [00:00<00:37, 72.26it/s]"
     ]
    },
    {
     "name": "stdout",
     "output_type": "stream",
     "text": [
      "Epoch: (2 / 15): Train acc:[0.6179795861244202, 0.6507413983345032, 0.6650139093399048] Avg Train Loss: 0.8474044601122538 Val Loss: 0.5390708049138387 Val Acc: [0.7138532996177673, 0.868731677532196, 0.9437997937202454]\n"
     ]
    },
    {
     "name": "stderr",
     "output_type": "stream",
     "text": [
      "100%|██████████████████████████████████████████████████████████████████████████████| 2698/2698 [00:40<00:00, 67.22it/s]\n",
      "100%|█████████████████████████████████████████████████████████████████████████████| 1239/1239 [00:07<00:00, 167.93it/s]\n",
      "  0%|▏                                                                                | 8/2698 [00:00<00:36, 73.54it/s]"
     ]
    },
    {
     "name": "stdout",
     "output_type": "stream",
     "text": [
      "Epoch: (3 / 15): Train acc:[0.6179795861244202, 0.6507413983345032, 0.6650139093399048, 0.6837349534034729] Avg Train Loss: 0.8227633535861969 Val Loss: 0.4675937592983246 Val Acc: [0.7138532996177673, 0.868731677532196, 0.9437997937202454, 0.9488446712493896]\n"
     ]
    },
    {
     "name": "stderr",
     "output_type": "stream",
     "text": [
      "100%|██████████████████████████████████████████████████████████████████████████████| 2698/2698 [00:36<00:00, 73.70it/s]\n",
      "100%|█████████████████████████████████████████████████████████████████████████████| 1239/1239 [00:07<00:00, 169.41it/s]\n",
      "  0%|▏                                                                                | 8/2698 [00:00<00:35, 76.38it/s]"
     ]
    },
    {
     "name": "stdout",
     "output_type": "stream",
     "text": [
      "Epoch: (4 / 15): Train acc:[0.6179795861244202, 0.6507413983345032, 0.6650139093399048, 0.6837349534034729, 0.7066728472709656] Avg Train Loss: 0.7996201872825622 Val Loss: 0.4163152456283569 Val Acc: [0.7138532996177673, 0.868731677532196, 0.9437997937202454, 0.9488446712493896, 0.9611542224884033]\n"
     ]
    },
    {
     "name": "stderr",
     "output_type": "stream",
     "text": [
      "100%|██████████████████████████████████████████████████████████████████████████████| 2698/2698 [00:36<00:00, 74.01it/s]\n",
      "100%|█████████████████████████████████████████████████████████████████████████████| 1239/1239 [00:07<00:00, 170.85it/s]\n",
      "  0%|▏                                                                                | 8/2698 [00:00<00:36, 74.64it/s]"
     ]
    },
    {
     "name": "stdout",
     "output_type": "stream",
     "text": [
      "Epoch: (5 / 15): Train acc:[0.6179795861244202, 0.6507413983345032, 0.6650139093399048, 0.6837349534034729, 0.7066728472709656, 0.721640408039093] Avg Train Loss: 0.7776851157347361 Val Loss: 0.3707822064558665 Val Acc: [0.7138532996177673, 0.868731677532196, 0.9437997937202454, 0.9488446712493896, 0.9611542224884033, 0.9593380689620972]\n"
     ]
    },
    {
     "name": "stderr",
     "output_type": "stream",
     "text": [
      "100%|██████████████████████████████████████████████████████████████████████████████| 2698/2698 [00:36<00:00, 73.71it/s]\n",
      "100%|█████████████████████████████████████████████████████████████████████████████| 1239/1239 [00:07<00:00, 168.98it/s]\n",
      "  0%|▏                                                                                | 8/2698 [00:00<00:34, 77.07it/s]"
     ]
    },
    {
     "name": "stdout",
     "output_type": "stream",
     "text": [
      "Epoch: (6 / 15): Train acc:[0.6179795861244202, 0.6507413983345032, 0.6650139093399048, 0.6837349534034729, 0.7066728472709656, 0.721640408039093, 0.7393882870674133] Avg Train Loss: 0.7576249837875366 Val Loss: 0.3373713216611317 Val Acc: [0.7138532996177673, 0.868731677532196, 0.9437997937202454, 0.9488446712493896, 0.9611542224884033, 0.9593380689620972, 0.9642820954322815]\n"
     ]
    },
    {
     "name": "stderr",
     "output_type": "stream",
     "text": [
      "100%|██████████████████████████████████████████████████████████████████████████████| 2698/2698 [00:35<00:00, 75.35it/s]\n",
      "100%|█████████████████████████████████████████████████████████████████████████████| 1239/1239 [00:07<00:00, 169.60it/s]\n",
      "  0%|▏                                                                                | 8/2698 [00:00<00:35, 74.94it/s]"
     ]
    },
    {
     "name": "stdout",
     "output_type": "stream",
     "text": [
      "Epoch: (7 / 15): Train acc:[0.6179795861244202, 0.6507413983345032, 0.6650139093399048, 0.6837349534034729, 0.7066728472709656, 0.721640408039093, 0.7393882870674133, 0.7487024664878845] Avg Train Loss: 0.7398843169212341 Val Loss: 0.31004793010652065 Val Acc: [0.7138532996177673, 0.868731677532196, 0.9437997937202454, 0.9488446712493896, 0.9611542224884033, 0.9593380689620972, 0.9642820954322815, 0.9660982489585876]\n"
     ]
    },
    {
     "name": "stderr",
     "output_type": "stream",
     "text": [
      "100%|██████████████████████████████████████████████████████████████████████████████| 2698/2698 [00:38<00:00, 70.12it/s]\n",
      "100%|█████████████████████████████████████████████████████████████████████████████| 1239/1239 [00:07<00:00, 167.67it/s]\n",
      "  0%|▏                                                                                | 8/2698 [00:00<00:35, 75.67it/s]"
     ]
    },
    {
     "name": "stdout",
     "output_type": "stream",
     "text": [
      "Epoch: (8 / 15): Train acc:[0.6179795861244202, 0.6507413983345032, 0.6650139093399048, 0.6837349534034729, 0.7066728472709656, 0.721640408039093, 0.7393882870674133, 0.7487024664878845, 0.7585263848304749] Avg Train Loss: 0.724353571732839 Val Loss: 0.29032127890321946 Val Acc: [0.7138532996177673, 0.868731677532196, 0.9437997937202454, 0.9488446712493896, 0.9611542224884033, 0.9593380689620972, 0.9642820954322815, 0.9660982489585876, 0.9652910828590393]\n"
     ]
    },
    {
     "name": "stderr",
     "output_type": "stream",
     "text": [
      "100%|██████████████████████████████████████████████████████████████████████████████| 2698/2698 [00:40<00:00, 66.39it/s]\n",
      "100%|█████████████████████████████████████████████████████████████████████████████| 1239/1239 [00:07<00:00, 159.35it/s]\n",
      "  0%|▏                                                                                | 6/2698 [00:00<00:46, 58.41it/s]"
     ]
    },
    {
     "name": "stdout",
     "output_type": "stream",
     "text": [
      "Epoch: (9 / 15): Train acc:[0.6179795861244202, 0.6507413983345032, 0.6650139093399048, 0.6837349534034729, 0.7066728472709656, 0.721640408039093, 0.7393882870674133, 0.7487024664878845, 0.7585263848304749, 0.7683966755867004] Avg Train Loss: 0.7099101960659027 Val Loss: 0.270805274695158 Val Acc: [0.7138532996177673, 0.868731677532196, 0.9437997937202454, 0.9488446712493896, 0.9611542224884033, 0.9593380689620972, 0.9642820954322815, 0.9660982489585876, 0.9652910828590393, 0.9675108194351196]\n"
     ]
    },
    {
     "name": "stderr",
     "output_type": "stream",
     "text": [
      "100%|██████████████████████████████████████████████████████████████████████████████| 2698/2698 [00:38<00:00, 70.46it/s]\n",
      "100%|█████████████████████████████████████████████████████████████████████████████| 1239/1239 [00:09<00:00, 126.03it/s]\n",
      "  0%|▏                                                                                | 6/2698 [00:00<00:47, 57.21it/s]"
     ]
    },
    {
     "name": "stdout",
     "output_type": "stream",
     "text": [
      "Epoch: (10 / 15): Train acc:[0.6179795861244202, 0.6507413983345032, 0.6650139093399048, 0.6837349534034729, 0.7066728472709656, 0.721640408039093, 0.7393882870674133, 0.7487024664878845, 0.7585263848304749, 0.7683966755867004, 0.7738646864891052] Avg Train Loss: 0.6971431753852151 Val Loss: 0.25640846585685556 Val Acc: [0.7138532996177673, 0.868731677532196, 0.9437997937202454, 0.9488446712493896, 0.9611542224884033, 0.9593380689620972, 0.9642820954322815, 0.9660982489585876, 0.9652910828590393, 0.9675108194351196, 0.9690243005752563]\n"
     ]
    },
    {
     "name": "stderr",
     "output_type": "stream",
     "text": [
      "100%|██████████████████████████████████████████████████████████████████████████████| 2698/2698 [00:41<00:00, 64.58it/s]\n",
      "100%|█████████████████████████████████████████████████████████████████████████████| 1239/1239 [00:07<00:00, 158.04it/s]\n",
      "  0%|▏                                                                                | 8/2698 [00:00<00:36, 72.90it/s]"
     ]
    },
    {
     "name": "stdout",
     "output_type": "stream",
     "text": [
      "Epoch: (11 / 15): Train acc:[0.6179795861244202, 0.6507413983345032, 0.6650139093399048, 0.6837349534034729, 0.7066728472709656, 0.721640408039093, 0.7393882870674133, 0.7487024664878845, 0.7585263848304749, 0.7683966755867004, 0.7738646864891052, 0.77933269739151] Avg Train Loss: 0.6858703444401423 Val Loss: 0.2432290893048048 Val Acc: [0.7138532996177673, 0.868731677532196, 0.9437997937202454, 0.9488446712493896, 0.9611542224884033, 0.9593380689620972, 0.9642820954322815, 0.9660982489585876, 0.9652910828590393, 0.9675108194351196, 0.9690243005752563, 0.9705377817153931]\n"
     ]
    },
    {
     "name": "stderr",
     "output_type": "stream",
     "text": [
      "100%|██████████████████████████████████████████████████████████████████████████████| 2698/2698 [00:40<00:00, 65.85it/s]\n",
      "100%|█████████████████████████████████████████████████████████████████████████████| 1239/1239 [00:07<00:00, 160.54it/s]\n",
      "  0%|▏                                                                                | 7/2698 [00:00<00:38, 69.15it/s]"
     ]
    },
    {
     "name": "stdout",
     "output_type": "stream",
     "text": [
      "Epoch: (12 / 15): Train acc:[0.6179795861244202, 0.6507413983345032, 0.6650139093399048, 0.6837349534034729, 0.7066728472709656, 0.721640408039093, 0.7393882870674133, 0.7487024664878845, 0.7585263848304749, 0.7683966755867004, 0.7738646864891052, 0.77933269739151, 0.7847543954849243] Avg Train Loss: 0.6757400402655969 Val Loss: 0.2321509810594412 Val Acc: [0.7138532996177673, 0.868731677532196, 0.9437997937202454, 0.9488446712493896, 0.9611542224884033, 0.9593380689620972, 0.9642820954322815, 0.9660982489585876, 0.9652910828590393, 0.9675108194351196, 0.9690243005752563, 0.9705377817153931, 0.9708404541015625]\n"
     ]
    },
    {
     "name": "stderr",
     "output_type": "stream",
     "text": [
      "100%|██████████████████████████████████████████████████████████████████████████████| 2698/2698 [00:43<00:00, 62.00it/s]\n",
      "100%|█████████████████████████████████████████████████████████████████████████████| 1239/1239 [00:11<00:00, 109.44it/s]\n",
      "  0%|▏                                                                                | 5/2698 [00:00<00:56, 47.73it/s]"
     ]
    },
    {
     "name": "stdout",
     "output_type": "stream",
     "text": [
      "Epoch: (13 / 15): Train acc:[0.6179795861244202, 0.6507413983345032, 0.6650139093399048, 0.6837349534034729, 0.7066728472709656, 0.721640408039093, 0.7393882870674133, 0.7487024664878845, 0.7585263848304749, 0.7683966755867004, 0.7738646864891052, 0.77933269739151, 0.7847543954849243, 0.7870250344276428] Avg Train Loss: 0.6664314610617501 Val Loss: 0.22228507484708512 Val Acc: [0.7138532996177673, 0.868731677532196, 0.9437997937202454, 0.9488446712493896, 0.9611542224884033, 0.9593380689620972, 0.9642820954322815, 0.9660982489585876, 0.9652910828590393, 0.9675108194351196, 0.9690243005752563, 0.9705377817153931, 0.9708404541015625, 0.9712440371513367]\n"
     ]
    },
    {
     "name": "stderr",
     "output_type": "stream",
     "text": [
      "100%|██████████████████████████████████████████████████████████████████████████████| 2698/2698 [00:45<00:00, 59.28it/s]\n",
      "100%|█████████████████████████████████████████████████████████████████████████████| 1239/1239 [00:08<00:00, 149.16it/s]\n"
     ]
    },
    {
     "name": "stdout",
     "output_type": "stream",
     "text": [
      "Epoch: (14 / 15): Train acc:[0.6179795861244202, 0.6507413983345032, 0.6650139093399048, 0.6837349534034729, 0.7066728472709656, 0.721640408039093, 0.7393882870674133, 0.7487024664878845, 0.7585263848304749, 0.7683966755867004, 0.7738646864891052, 0.77933269739151, 0.7847543954849243, 0.7870250344276428, 0.7804911732673645] Avg Train Loss: 0.658643651008606 Val Loss: 0.21379990329345067 Val Acc: [0.7138532996177673, 0.868731677532196, 0.9437997937202454, 0.9488446712493896, 0.9611542224884033, 0.9593380689620972, 0.9642820954322815, 0.9660982489585876, 0.9652910828590393, 0.9675108194351196, 0.9690243005752563, 0.9705377817153931, 0.9708404541015625, 0.9712440371513367, 0.9711431264877319]\n"
     ]
    },
    {
     "ename": "UnboundLocalError",
     "evalue": "local variable 'best_model_weights' referenced before assignment",
     "output_type": "error",
     "traceback": [
      "\u001b[1;31m---------------------------------------------------------------------------\u001b[0m",
      "\u001b[1;31mUnboundLocalError\u001b[0m                         Traceback (most recent call last)",
      "\u001b[1;32m<ipython-input-18-c930ee81a64e>\u001b[0m in \u001b[0;36m<module>\u001b[1;34m()\u001b[0m\n\u001b[1;32m----> 1\u001b[1;33m \u001b[0mloss_stats\u001b[0m\u001b[1;33m,\u001b[0m \u001b[0maccuracy_stats\u001b[0m\u001b[1;33m,\u001b[0m \u001b[0mbest_model_weights\u001b[0m\u001b[1;33m,\u001b[0m \u001b[0mtimes_per_iteration\u001b[0m\u001b[1;33m=\u001b[0m\u001b[0mtrain_model\u001b[0m\u001b[1;33m(\u001b[0m\u001b[0mmodel\u001b[0m\u001b[1;33m,\u001b[0m \u001b[0mcriterion\u001b[0m\u001b[1;33m,\u001b[0m \u001b[0moptimizer\u001b[0m\u001b[1;33m,\u001b[0m \u001b[0mnum_epochs\u001b[0m\u001b[1;33m=\u001b[0m\u001b[1;36m15\u001b[0m\u001b[1;33m)\u001b[0m\u001b[1;33m\u001b[0m\u001b[1;33m\u001b[0m\u001b[0m\n\u001b[0m",
      "\u001b[1;32m<ipython-input-16-d9ebe9aab2e3>\u001b[0m in \u001b[0;36mtrain_model\u001b[1;34m(model, criterion, optimizer, num_epochs)\u001b[0m\n\u001b[0;32m     70\u001b[0m         \u001b[1;31m#print(f'Epoch {e+0:02}: | Train Loss: {train_epoch_loss/len(train_loader):.5f} | Val Loss: {val_epoch_loss/len(test_loader):.5f} | Train Acc: {train_epoch_acc/len(train_loader):.3f}| Val Acc: {val_epoch_acc/len(test_loader):.3f}')\u001b[0m\u001b[1;33m\u001b[0m\u001b[1;33m\u001b[0m\u001b[1;33m\u001b[0m\u001b[0m\n\u001b[0;32m     71\u001b[0m     \u001b[1;31m#return train_loss, train_acc, val_loss, val_acc\u001b[0m\u001b[1;33m\u001b[0m\u001b[1;33m\u001b[0m\u001b[1;33m\u001b[0m\u001b[0m\n\u001b[1;32m---> 72\u001b[1;33m     \u001b[1;32mreturn\u001b[0m \u001b[0mloss_stats\u001b[0m\u001b[1;33m,\u001b[0m \u001b[0maccuracy_stats\u001b[0m\u001b[1;33m,\u001b[0m\u001b[0mbest_model_weights\u001b[0m\u001b[1;33m,\u001b[0m\u001b[0mtimes_per_iteration\u001b[0m\u001b[1;33m\u001b[0m\u001b[1;33m\u001b[0m\u001b[0m\n\u001b[0m",
      "\u001b[1;31mUnboundLocalError\u001b[0m: local variable 'best_model_weights' referenced before assignment"
     ]
    }
   ],
   "source": [
    "loss_stats, accuracy_stats, best_model_weights, times_per_iteration=train_model(model, criterion, optimizer, num_epochs=15)"
   ]
  },
  {
   "cell_type": "code",
   "execution_count": 17,
   "metadata": {},
   "outputs": [
    {
     "name": "stdout",
     "output_type": "stream",
     "text": [
      "Total time taken (in Mins) =  79.58\n"
     ]
    },
    {
     "data": {
      "image/png": "[encoded data removed]",
      "text/plain": [
       "<Figure size 432x288 with 1 Axes>"
      ]
     },
     "metadata": {},
     "output_type": "display_data"
    }
   ],
   "source": [
    "%matplotlib inline\n",
    "sns.set_style('darkgrid')\n",
    "times_per_iteration1=[]\n",
    "times_per_iteration1[:] = [x / 100000 for x in times_per_iteration]\n",
    "\n",
    "plt.plot(range(0,15),times_per_iteration1)\n",
    "plt.xlabel(\"No of epochs\")\n",
    "plt.ylabel(\"Time (Mins)\")\n",
    "print(\"Total time taken (in Mins) = \",round(sum(times_per_iteration1),2))"
   ]
  },
  {
   "cell_type": "code",
   "execution_count": 18,
   "metadata": {},
   "outputs": [],
   "source": [
    "np.save('timetaken_resnet50_deterministic.npy',times_per_iteration1)"
   ]
  },
  {
   "cell_type": "markdown",
   "metadata": {},
   "source": [
    "### To save best model weights"
   ]
  },
  {
   "cell_type": "code",
   "execution_count": 19,
   "metadata": {},
   "outputs": [],
   "source": [
    "torch.save(best_model_weights, \"best_model_resnet50_deterministic.pkl\")"
   ]
  },
  {
   "cell_type": "code",
   "execution_count": 13,
   "metadata": {},
   "outputs": [
    {
     "data": {
      "text/plain": [
       "ResNet(\n",
       "  (conv1): Conv2d(3, 64, kernel_size=(7, 7), stride=(2, 2), padding=(3, 3), bias=False)\n",
       "  (bn1): BatchNorm2d(64, eps=1e-05, momentum=0.1, affine=True, track_running_stats=True)\n",
       "  (relu): ReLU(inplace=True)\n",
       "  (maxpool): MaxPool2d(kernel_size=3, stride=2, padding=1, dilation=1, ceil_mode=False)\n",
       "  (layer1): Sequential(\n",
       "    (0): Bottleneck(\n",
       "      (conv1): Conv2d(64, 64, kernel_size=(1, 1), stride=(1, 1), bias=False)\n",
       "      (bn1): BatchNorm2d(64, eps=1e-05, momentum=0.1, affine=True, track_running_stats=True)\n",
       "      (conv2): Conv2d(64, 64, kernel_size=(3, 3), stride=(1, 1), padding=(1, 1), bias=False)\n",
       "      (bn2): BatchNorm2d(64, eps=1e-05, momentum=0.1, affine=True, track_running_stats=True)\n",
       "      (conv3): Conv2d(64, 256, kernel_size=(1, 1), stride=(1, 1), bias=False)\n",
       "      (bn3): BatchNorm2d(256, eps=1e-05, momentum=0.1, affine=True, track_running_stats=True)\n",
       "      (relu): ReLU(inplace=True)\n",
       "      (downsample): Sequential(\n",
       "        (0): Conv2d(64, 256, kernel_size=(1, 1), stride=(1, 1), bias=False)\n",
       "        (1): BatchNorm2d(256, eps=1e-05, momentum=0.1, affine=True, track_running_stats=True)\n",
       "      )\n",
       "    )\n",
       "    (1): Bottleneck(\n",
       "      (conv1): Conv2d(256, 64, kernel_size=(1, 1), stride=(1, 1), bias=False)\n",
       "      (bn1): BatchNorm2d(64, eps=1e-05, momentum=0.1, affine=True, track_running_stats=True)\n",
       "      (conv2): Conv2d(64, 64, kernel_size=(3, 3), stride=(1, 1), padding=(1, 1), bias=False)\n",
       "      (bn2): BatchNorm2d(64, eps=1e-05, momentum=0.1, affine=True, track_running_stats=True)\n",
       "      (conv3): Conv2d(64, 256, kernel_size=(1, 1), stride=(1, 1), bias=False)\n",
       "      (bn3): BatchNorm2d(256, eps=1e-05, momentum=0.1, affine=True, track_running_stats=True)\n",
       "      (relu): ReLU(inplace=True)\n",
       "    )\n",
       "    (2): Bottleneck(\n",
       "      (conv1): Conv2d(256, 64, kernel_size=(1, 1), stride=(1, 1), bias=False)\n",
       "      (bn1): BatchNorm2d(64, eps=1e-05, momentum=0.1, affine=True, track_running_stats=True)\n",
       "      (conv2): Conv2d(64, 64, kernel_size=(3, 3), stride=(1, 1), padding=(1, 1), bias=False)\n",
       "      (bn2): BatchNorm2d(64, eps=1e-05, momentum=0.1, affine=True, track_running_stats=True)\n",
       "      (conv3): Conv2d(64, 256, kernel_size=(1, 1), stride=(1, 1), bias=False)\n",
       "      (bn3): BatchNorm2d(256, eps=1e-05, momentum=0.1, affine=True, track_running_stats=True)\n",
       "      (relu): ReLU(inplace=True)\n",
       "    )\n",
       "  )\n",
       "  (layer2): Sequential(\n",
       "    (0): Bottleneck(\n",
       "      (conv1): Conv2d(256, 128, kernel_size=(1, 1), stride=(1, 1), bias=False)\n",
       "      (bn1): BatchNorm2d(128, eps=1e-05, momentum=0.1, affine=True, track_running_stats=True)\n",
       "      (conv2): Conv2d(128, 128, kernel_size=(3, 3), stride=(2, 2), padding=(1, 1), bias=False)\n",
       "      (bn2): BatchNorm2d(128, eps=1e-05, momentum=0.1, affine=True, track_running_stats=True)\n",
       "      (conv3): Conv2d(128, 512, kernel_size=(1, 1), stride=(1, 1), bias=False)\n",
       "      (bn3): BatchNorm2d(512, eps=1e-05, momentum=0.1, affine=True, track_running_stats=True)\n",
       "      (relu): ReLU(inplace=True)\n",
       "      (downsample): Sequential(\n",
       "        (0): Conv2d(256, 512, kernel_size=(1, 1), stride=(2, 2), bias=False)\n",
       "        (1): BatchNorm2d(512, eps=1e-05, momentum=0.1, affine=True, track_running_stats=True)\n",
       "      )\n",
       "    )\n",
       "    (1): Bottleneck(\n",
       "      (conv1): Conv2d(512, 128, kernel_size=(1, 1), stride=(1, 1), bias=False)\n",
       "      (bn1): BatchNorm2d(128, eps=1e-05, momentum=0.1, affine=True, track_running_stats=True)\n",
       "      (conv2): Conv2d(128, 128, kernel_size=(3, 3), stride=(1, 1), padding=(1, 1), bias=False)\n",
       "      (bn2): BatchNorm2d(128, eps=1e-05, momentum=0.1, affine=True, track_running_stats=True)\n",
       "      (conv3): Conv2d(128, 512, kernel_size=(1, 1), stride=(1, 1), bias=False)\n",
       "      (bn3): BatchNorm2d(512, eps=1e-05, momentum=0.1, affine=True, track_running_stats=True)\n",
       "      (relu): ReLU(inplace=True)\n",
       "    )\n",
       "    (2): Bottleneck(\n",
       "      (conv1): Conv2d(512, 128, kernel_size=(1, 1), stride=(1, 1), bias=False)\n",
       "      (bn1): BatchNorm2d(128, eps=1e-05, momentum=0.1, affine=True, track_running_stats=True)\n",
       "      (conv2): Conv2d(128, 128, kernel_size=(3, 3), stride=(1, 1), padding=(1, 1), bias=False)\n",
       "      (bn2): BatchNorm2d(128, eps=1e-05, momentum=0.1, affine=True, track_running_stats=True)\n",
       "      (conv3): Conv2d(128, 512, kernel_size=(1, 1), stride=(1, 1), bias=False)\n",
       "      (bn3): BatchNorm2d(512, eps=1e-05, momentum=0.1, affine=True, track_running_stats=True)\n",
       "      (relu): ReLU(inplace=True)\n",
       "    )\n",
       "    (3): Bottleneck(\n",
       "      (conv1): Conv2d(512, 128, kernel_size=(1, 1), stride=(1, 1), bias=False)\n",
       "      (bn1): BatchNorm2d(128, eps=1e-05, momentum=0.1, affine=True, track_running_stats=True)\n",
       "      (conv2): Conv2d(128, 128, kernel_size=(3, 3), stride=(1, 1), padding=(1, 1), bias=False)\n",
       "      (bn2): BatchNorm2d(128, eps=1e-05, momentum=0.1, affine=True, track_running_stats=True)\n",
       "      (conv3): Conv2d(128, 512, kernel_size=(1, 1), stride=(1, 1), bias=False)\n",
       "      (bn3): BatchNorm2d(512, eps=1e-05, momentum=0.1, affine=True, track_running_stats=True)\n",
       "      (relu): ReLU(inplace=True)\n",
       "    )\n",
       "  )\n",
       "  (layer3): Sequential(\n",
       "    (0): Bottleneck(\n",
       "      (conv1): Conv2d(512, 256, kernel_size=(1, 1), stride=(1, 1), bias=False)\n",
       "      (bn1): BatchNorm2d(256, eps=1e-05, momentum=0.1, affine=True, track_running_stats=True)\n",
       "      (conv2): Conv2d(256, 256, kernel_size=(3, 3), stride=(2, 2), padding=(1, 1), bias=False)\n",
       "      (bn2): BatchNorm2d(256, eps=1e-05, momentum=0.1, affine=True, track_running_stats=True)\n",
       "      (conv3): Conv2d(256, 1024, kernel_size=(1, 1), stride=(1, 1), bias=False)\n",
       "      (bn3): BatchNorm2d(1024, eps=1e-05, momentum=0.1, affine=True, track_running_stats=True)\n",
       "      (relu): ReLU(inplace=True)\n",
       "      (downsample): Sequential(\n",
       "        (0): Conv2d(512, 1024, kernel_size=(1, 1), stride=(2, 2), bias=False)\n",
       "        (1): BatchNorm2d(1024, eps=1e-05, momentum=0.1, affine=True, track_running_stats=True)\n",
       "      )\n",
       "    )\n",
       "    (1): Bottleneck(\n",
       "      (conv1): Conv2d(1024, 256, kernel_size=(1, 1), stride=(1, 1), bias=False)\n",
       "      (bn1): BatchNorm2d(256, eps=1e-05, momentum=0.1, affine=True, track_running_stats=True)\n",
       "      (conv2): Conv2d(256, 256, kernel_size=(3, 3), stride=(1, 1), padding=(1, 1), bias=False)\n",
       "      (bn2): BatchNorm2d(256, eps=1e-05, momentum=0.1, affine=True, track_running_stats=True)\n",
       "      (conv3): Conv2d(256, 1024, kernel_size=(1, 1), stride=(1, 1), bias=False)\n",
       "      (bn3): BatchNorm2d(1024, eps=1e-05, momentum=0.1, affine=True, track_running_stats=True)\n",
       "      (relu): ReLU(inplace=True)\n",
       "    )\n",
       "    (2): Bottleneck(\n",
       "      (conv1): Conv2d(1024, 256, kernel_size=(1, 1), stride=(1, 1), bias=False)\n",
       "      (bn1): BatchNorm2d(256, eps=1e-05, momentum=0.1, affine=True, track_running_stats=True)\n",
       "      (conv2): Conv2d(256, 256, kernel_size=(3, 3), stride=(1, 1), padding=(1, 1), bias=False)\n",
       "      (bn2): BatchNorm2d(256, eps=1e-05, momentum=0.1, affine=True, track_running_stats=True)\n",
       "      (conv3): Conv2d(256, 1024, kernel_size=(1, 1), stride=(1, 1), bias=False)\n",
       "      (bn3): BatchNorm2d(1024, eps=1e-05, momentum=0.1, affine=True, track_running_stats=True)\n",
       "      (relu): ReLU(inplace=True)\n",
       "    )\n",
       "    (3): Bottleneck(\n",
       "      (conv1): Conv2d(1024, 256, kernel_size=(1, 1), stride=(1, 1), bias=False)\n",
       "      (bn1): BatchNorm2d(256, eps=1e-05, momentum=0.1, affine=True, track_running_stats=True)\n",
       "      (conv2): Conv2d(256, 256, kernel_size=(3, 3), stride=(1, 1), padding=(1, 1), bias=False)\n",
       "      (bn2): BatchNorm2d(256, eps=1e-05, momentum=0.1, affine=True, track_running_stats=True)\n",
       "      (conv3): Conv2d(256, 1024, kernel_size=(1, 1), stride=(1, 1), bias=False)\n",
       "      (bn3): BatchNorm2d(1024, eps=1e-05, momentum=0.1, affine=True, track_running_stats=True)\n",
       "      (relu): ReLU(inplace=True)\n",
       "    )\n",
       "    (4): Bottleneck(\n",
       "      (conv1): Conv2d(1024, 256, kernel_size=(1, 1), stride=(1, 1), bias=False)\n",
       "      (bn1): BatchNorm2d(256, eps=1e-05, momentum=0.1, affine=True, track_running_stats=True)\n",
       "      (conv2): Conv2d(256, 256, kernel_size=(3, 3), stride=(1, 1), padding=(1, 1), bias=False)\n",
       "      (bn2): BatchNorm2d(256, eps=1e-05, momentum=0.1, affine=True, track_running_stats=True)\n",
       "      (conv3): Conv2d(256, 1024, kernel_size=(1, 1), stride=(1, 1), bias=False)\n",
       "      (bn3): BatchNorm2d(1024, eps=1e-05, momentum=0.1, affine=True, track_running_stats=True)\n",
       "      (relu): ReLU(inplace=True)\n",
       "    )\n",
       "    (5): Bottleneck(\n",
       "      (conv1): Conv2d(1024, 256, kernel_size=(1, 1), stride=(1, 1), bias=False)\n",
       "      (bn1): BatchNorm2d(256, eps=1e-05, momentum=0.1, affine=True, track_running_stats=True)\n",
       "      (conv2): Conv2d(256, 256, kernel_size=(3, 3), stride=(1, 1), padding=(1, 1), bias=False)\n",
       "      (bn2): BatchNorm2d(256, eps=1e-05, momentum=0.1, affine=True, track_running_stats=True)\n",
       "      (conv3): Conv2d(256, 1024, kernel_size=(1, 1), stride=(1, 1), bias=False)\n",
       "      (bn3): BatchNorm2d(1024, eps=1e-05, momentum=0.1, affine=True, track_running_stats=True)\n",
       "      (relu): ReLU(inplace=True)\n",
       "    )\n",
       "  )\n",
       "  (layer4): Sequential(\n",
       "    (0): Bottleneck(\n",
       "      (conv1): Conv2d(1024, 512, kernel_size=(1, 1), stride=(1, 1), bias=False)\n",
       "      (bn1): BatchNorm2d(512, eps=1e-05, momentum=0.1, affine=True, track_running_stats=True)\n",
       "      (conv2): Conv2d(512, 512, kernel_size=(3, 3), stride=(2, 2), padding=(1, 1), bias=False)\n",
       "      (bn2): BatchNorm2d(512, eps=1e-05, momentum=0.1, affine=True, track_running_stats=True)\n",
       "      (conv3): Conv2d(512, 2048, kernel_size=(1, 1), stride=(1, 1), bias=False)\n",
       "      (bn3): BatchNorm2d(2048, eps=1e-05, momentum=0.1, affine=True, track_running_stats=True)\n",
       "      (relu): ReLU(inplace=True)\n",
       "      (downsample): Sequential(\n",
       "        (0): Conv2d(1024, 2048, kernel_size=(1, 1), stride=(2, 2), bias=False)\n",
       "        (1): BatchNorm2d(2048, eps=1e-05, momentum=0.1, affine=True, track_running_stats=True)\n",
       "      )\n",
       "    )\n",
       "    (1): Bottleneck(\n",
       "      (conv1): Conv2d(2048, 512, kernel_size=(1, 1), stride=(1, 1), bias=False)\n",
       "      (bn1): BatchNorm2d(512, eps=1e-05, momentum=0.1, affine=True, track_running_stats=True)\n",
       "      (conv2): Conv2d(512, 512, kernel_size=(3, 3), stride=(1, 1), padding=(1, 1), bias=False)\n",
       "      (bn2): BatchNorm2d(512, eps=1e-05, momentum=0.1, affine=True, track_running_stats=True)\n",
       "      (conv3): Conv2d(512, 2048, kernel_size=(1, 1), stride=(1, 1), bias=False)\n",
       "      (bn3): BatchNorm2d(2048, eps=1e-05, momentum=0.1, affine=True, track_running_stats=True)\n",
       "      (relu): ReLU(inplace=True)\n",
       "    )\n",
       "    (2): Bottleneck(\n",
       "      (conv1): Conv2d(2048, 512, kernel_size=(1, 1), stride=(1, 1), bias=False)\n",
       "      (bn1): BatchNorm2d(512, eps=1e-05, momentum=0.1, affine=True, track_running_stats=True)\n",
       "      (conv2): Conv2d(512, 512, kernel_size=(3, 3), stride=(1, 1), padding=(1, 1), bias=False)\n",
       "      (bn2): BatchNorm2d(512, eps=1e-05, momentum=0.1, affine=True, track_running_stats=True)\n",
       "      (conv3): Conv2d(512, 2048, kernel_size=(1, 1), stride=(1, 1), bias=False)\n",
       "      (bn3): BatchNorm2d(2048, eps=1e-05, momentum=0.1, affine=True, track_running_stats=True)\n",
       "      (relu): ReLU(inplace=True)\n",
       "    )\n",
       "  )\n",
       "  (avgpool): AdaptiveAvgPool2d(output_size=(1, 1))\n",
       "  (fc): Linear(in_features=2048, out_features=3, bias=True)\n",
       ")"
      ]
     },
     "execution_count": 13,
     "metadata": {},
     "output_type": "execute_result"
    }
   ],
   "source": [
    "model1 = models.resnet50()\n",
    "num_ftrs = model1.fc.in_features\n",
    "model1.fc = torch.nn.Linear(num_ftrs, n_output) \n",
    "\n",
    "model1.load_state_dict(torch.load(\"./best_model_resnet50test1.pkl\"))\n",
    "model1.eval()"
   ]
  },
  {
   "cell_type": "markdown",
   "metadata": {},
   "source": [
    "### To save accuracy and loss,load and plot"
   ]
  },
  {
   "cell_type": "code",
   "execution_count": 20,
   "metadata": {},
   "outputs": [],
   "source": [
    "np.save('Accuracy_stats_resnet50_deterministic',accuracy_stats)\n",
    "np.save('Loss_stats_resnet50_deterministic',loss_stats)\n",
    "np.save('resnet50_deterministic_test_acc.npy',accuracy_stats['test'])\n",
    "np.save('resnet50_deterministic_test_loss.npy',loss_stats['test'])\n",
    "np.save('resnet50_deterministic_train_acc.npy',accuracy_stats['train'])\n",
    "np.save('resnet50_deterministic_train_loss.npy',loss_stats['train'])"
   ]
  },
  {
   "cell_type": "code",
   "execution_count": 22,
   "metadata": {},
   "outputs": [],
   "source": [
    "np.save('Accuracy_stats_checkbox_deterministic',accuracy_stats)\n",
    "np.save('Loss_stats_checkbox_deterministic',loss_stats)\n",
    "np.save('checkbox_eterministic_test_acc.npy',accuracy_stats['test'])\n",
    "np.save('checkbox_deterministic_test_loss.npy',loss_stats['test'])\n",
    "np.save('checkbox_deterministic_train_acc.npy',accuracy_stats['train'])\n",
    "np.save('checkbox_deterministic_train_loss.npy',loss_stats['train'])"
   ]
  },
  {
   "cell_type": "code",
   "execution_count": 21,
   "metadata": {},
   "outputs": [],
   "source": [
    "%matplotlib inline\n",
    "sns.set_style('darkgrid')"
   ]
  },
  {
   "cell_type": "code",
   "execution_count": 16,
   "metadata": {},
   "outputs": [
    {
     "name": "stdout",
     "output_type": "stream",
     "text": [
      "0.9716476202011108\n",
      "0.9966703057289124\n"
     ]
    },
    {
     "data": {
      "text/plain": [
       "<matplotlib.legend.Legend at 0x1a3f92ab978>"
      ]
     },
     "execution_count": 16,
     "metadata": {},
     "output_type": "execute_result"
    },
    {
     "data": {
      "image/png": "[encoded data removed]",
      "text/plain": [
       "<Figure size 432x288 with 1 Axes>"
      ]
     },
     "metadata": {},
     "output_type": "display_data"
    }
   ],
   "source": [
    "\n",
    "from matplotlib import pyplot as plt\n",
    "import numpy as np\n",
    "%matplotlib inline\n",
    "sns.set_style('darkgrid')\n",
    "\n",
    "\n",
    "\n",
    "\n",
    "a1 = np.load('./Deterministic_results/checkbox_eterministic_test_acc.npy')\n",
    "a2 =np.load('./Deterministic_results/resnet50_deterministic_test_acc.npy')\n",
    "plt.plot(a1,label='Val-Deterministic Checkbox')\n",
    "plt.plot(a2 ,label='Val-Deterministic Resnet50')\n",
    "#ax1.title(\"Validation Accuracy of Deterministic Models\")\n",
    "plt.legend()\n",
    "print(max(a1))\n",
    "print(max(a2))\n",
    "\n",
    "b1 = np.load('./Deterministic_results/checkbox_deterministic_train_acc.npy')\n",
    "b2 =np.load('./Deterministic_results/resnet50_deterministic_train_acc.npy')\n",
    "plt.plot(b1,label='Training-Deterministic Checkbox')\n",
    "plt.plot(b2 ,label='Training-Deterministic Resnet50')\n",
    "plt.title(\"Training and Validation Accuracy of Deterministic Models\")\n",
    "plt.legend()\n",
    "print(max(b1))\n",
    "print(max(b2))\n",
    "\n",
    "\n",
    "\n"
   ]
  },
  {
   "cell_type": "code",
   "execution_count": 17,
   "metadata": {},
   "outputs": [
    {
     "name": "stdout",
     "output_type": "stream",
     "text": [
      "Total time taken (in Mins) =  79.58\n",
      "Total time taken (in Mins) =  8.96\n"
     ]
    },
    {
     "data": {
      "image/png": "[encoded data removed]",
      "text/plain": [
       "<Figure size 432x288 with 1 Axes>"
      ]
     },
     "metadata": {},
     "output_type": "display_data"
    }
   ],
   "source": [
    "from matplotlib import pyplot as plt\n",
    "import numpy as np\n",
    "%matplotlib inline\n",
    "sns.set_style('darkgrid')\n",
    "\n",
    "a1 = np.load('./Deterministic_results/checkbox_deterministic_test_loss.npy')\n",
    "a2 =np.load('./Deterministic_results/resnet50_deterministic_test_loss.npy')\n",
    "plt.plot(a1,label='Deterministic Checkbox')\n",
    "plt.plot(a2 ,label='Deterministic Resnet50')\n",
    "plt.title(\"Loss curves of Deterministic Models\")\n",
    "plt.legend()\n",
    "time1=np.load('./Deterministic_results/timetaken_checkbox_deterministic.npy')\n",
    "time2=np.load('./Deterministic_results/timetaken_resnet50_deterministic.npy')\n",
    "print(\"Total time taken (in Mins) = \",round(sum(time2),2))\n",
    "print(\"Total time taken (in Mins) = \",round(sum(time1),2))"
   ]
  },
  {
   "cell_type": "markdown",
   "metadata": {},
   "source": [
    "### To plot training and validation accuracy and loss"
   ]
  },
  {
   "cell_type": "code",
   "execution_count": 22,
   "metadata": {},
   "outputs": [
    {
     "data": {
      "text/plain": [
       "Text(0.5, 1.0, 'Train-Val Loss/Epoch')"
      ]
     },
     "execution_count": 22,
     "metadata": {},
     "output_type": "execute_result"
    },
    {
     "data": {
      "image/png": "[encoded data removed]",
      "text/plain": [
       "<Figure size 1080x360 with 2 Axes>"
      ]
     },
     "metadata": {},
     "output_type": "display_data"
    }
   ],
   "source": [
    "train_val_acc_df = pd.DataFrame.from_dict(accuracy_stats).reset_index().melt(id_vars=['index']).rename(columns={\"index\":\"epochs\"})\n",
    "train_val_loss_df = pd.DataFrame.from_dict(loss_stats).reset_index().melt(id_vars=['index']).rename(columns={\"index\":\"epochs\"})\n",
    "\n",
    "# Plot line charts\n",
    "fig, axes = plt.subplots(nrows=1, ncols=2, figsize=(15,5))\n",
    "sns.lineplot(data=train_val_acc_df, x = \"epochs\", y=\"value\", hue=\"variable\",  ax=axes[0]).set_title('Train-Val Accuracy/Epoch')\n",
    "sns.lineplot(data=train_val_loss_df, x = \"epochs\", y=\"value\", hue=\"variable\", ax=axes[1]).set_title('Train-Val Loss/Epoch')"
   ]
  },
  {
   "cell_type": "markdown",
   "metadata": {},
   "source": [
    "### Confusion matrix and per class accuracy"
   ]
  },
  {
   "cell_type": "code",
   "execution_count": 29,
   "metadata": {},
   "outputs": [
    {
     "name": "stdout",
     "output_type": "stream",
     "text": [
      "[[8786    1    4]\n",
      " [   2  894    5]\n",
      " [  42    3  174]]\n",
      "[99.94312365 99.22308546 79.45205479]\n"
     ]
    }
   ],
   "source": [
    "from sklearn.metrics import confusion_matrix\n",
    "\n",
    "nb_classes = 3\n",
    "\n",
    "# Initialize the prediction and label lists(tensors)\n",
    "predlist=torch.zeros(0,dtype=torch.long, device='cpu')\n",
    "lbllist=torch.zeros(0,dtype=torch.long, device='cpu')\n",
    "\n",
    "with torch.no_grad():\n",
    "    for i, (inputs, classes) in enumerate(dataloaders['test']):\n",
    "        inputs = inputs.to(device)\n",
    "        classes = classes.to(device)\n",
    "        outputs = model(inputs)\n",
    "        _, preds = torch.max(outputs, 1)\n",
    "\n",
    "        # Append batch prediction results\n",
    "        predlist=torch.cat([predlist,preds.view(-1).cpu()])\n",
    "        lbllist=torch.cat([lbllist,classes.view(-1).cpu()])\n",
    "\n",
    "# Confusion matrix\n",
    "conf_mat=confusion_matrix(lbllist.numpy(), predlist.numpy())\n",
    "print(conf_mat)\n",
    "\n",
    "# Per-class accuracy\n",
    "class_accuracy=100*conf_mat.diagonal()/conf_mat.sum(1)\n",
    "print(class_accuracy)"
   ]
  },
  {
   "cell_type": "code",
   "execution_count": 30,
   "metadata": {},
   "outputs": [
    {
     "data": {
      "image/png": "[encoded data removed]",
      "text/plain": [
       "<Figure size 432x288 with 1 Axes>"
      ]
     },
     "metadata": {},
     "output_type": "display_data"
    }
   ],
   "source": [
    "import matplotlib.pyplot as plt\n",
    "\n",
    "y = np.round(class_accuracy,2)\n",
    "x=[1,2,3]\n",
    "\n",
    "plt.bar(x,y)\n",
    "plt.xlabel(\"Class\")\n",
    "plt.ylabel(\"Accuracy\")\n",
    "plt.title(\"Per class accuracy\")\n",
    "for a,b in zip(x, y): \n",
    "    plt.text(a, b, str(b))\n",
    "plt.show()"
   ]
  },
  {
   "cell_type": "code",
   "execution_count": 31,
   "metadata": {},
   "outputs": [],
   "source": [
    "import numpy as np\n",
    "import matplotlib.pyplot as plt\n",
    "import seaborn as sns\n",
    "\n",
    "def make_confusion_matrix(cf,\n",
    "                          group_names=None,\n",
    "                          categories='auto',\n",
    "                          count=True,\n",
    "                          percent=True,\n",
    "                          cbar=True,\n",
    "                          xyticks=True,\n",
    "                          xyplotlabels=True,\n",
    "                          sum_stats=True,\n",
    "                          figsize=None,\n",
    "                          cmap='Blues',\n",
    "                          title=None):\n",
    "    '''\n",
    "    This function will make a pretty plot of an sklearn Confusion Matrix cm using a Seaborn heatmap visualization.\n",
    "    Arguments\n",
    "    ---------\n",
    "    cf:            confusion matrix to be passed in\n",
    "    group_names:   List of strings that represent the labels row by row to be shown in each square.\n",
    "    categories:    List of strings containing the categories to be displayed on the x,y axis. Default is 'auto'\n",
    "    count:         If True, show the raw number in the confusion matrix. Default is True.\n",
    "    normalize:     If True, show the proportions for each category. Default is True.\n",
    "    cbar:          If True, show the color bar. The cbar values are based off the values in the confusion matrix.\n",
    "                   Default is True.\n",
    "    xyticks:       If True, show x and y ticks. Default is True.\n",
    "    xyplotlabels:  If True, show 'True Label' and 'Predicted Label' on the figure. Default is True.\n",
    "    sum_stats:     If True, display summary statistics below the figure. Default is True.\n",
    "    figsize:       Tuple representing the figure size. Default will be the matplotlib rcParams value.\n",
    "    cmap:          Colormap of the values displayed from matplotlib.pyplot.cm. Default is 'Blues'\n",
    "                   See http://matplotlib.org/examples/color/colormaps_reference.html\n",
    "                   \n",
    "    title:         Title for the heatmap. Default is None.\n",
    "    '''\n",
    "\n",
    "\n",
    "    # CODE TO GENERATE TEXT INSIDE EACH SQUARE\n",
    "    blanks = ['' for i in range(cf.size)]\n",
    "\n",
    "    if group_names and len(group_names)==cf.size:\n",
    "        group_labels = [\"{}\\n\".format(value) for value in group_names]\n",
    "    else:\n",
    "        group_labels = blanks\n",
    "\n",
    "    if count:\n",
    "        group_counts = [\"{0:0.0f}\\n\".format(value) for value in cf.flatten()]\n",
    "    else:\n",
    "        group_counts = blanks\n",
    "\n",
    "    if percent:\n",
    "        group_percentages = [\"{0:.2%}\".format(value) for value in cf.flatten()/np.sum(cf)]\n",
    "    else:\n",
    "        group_percentages = blanks\n",
    "\n",
    "    box_labels = [f\"{v1}{v2}{v3}\".strip() for v1, v2, v3 in zip(group_labels,group_counts,group_percentages)]\n",
    "    box_labels = np.asarray(box_labels).reshape(cf.shape[0],cf.shape[1])\n",
    "\n",
    "\n",
    "    # CODE TO GENERATE SUMMARY STATISTICS & TEXT FOR SUMMARY STATS\n",
    "    if sum_stats:\n",
    "        #Accuracy is sum of diagonal divided by total observations\n",
    "        accuracy  = np.trace(cf) / float(np.sum(cf))\n",
    "\n",
    "        #if it is a binary confusion matrix, show some more stats\n",
    "        if len(cf)==2:\n",
    "            #Metrics for Binary Confusion Matrices\n",
    "            precision = cf[1,1] / sum(cf[:,1])\n",
    "            recall    = cf[1,1] / sum(cf[1,:])\n",
    "            f1_score  = 2*precision*recall / (precision + recall)\n",
    "            stats_text = \"\\n\\nAccuracy={:0.3f}\\nPrecision={:0.3f}\\nRecall={:0.3f}\\nF1 Score={:0.3f}\".format(\n",
    "                accuracy,precision,recall,f1_score)\n",
    "        else:\n",
    "            stats_text = \"\\n\\nAccuracy={:0.3f}\".format(accuracy)\n",
    "    else:\n",
    "        stats_text = \"\"\n",
    "\n",
    "\n",
    "    # SET FIGURE PARAMETERS ACCORDING TO OTHER ARGUMENTS\n",
    "    if figsize==None:\n",
    "        #Get default figure size if not set\n",
    "        figsize = plt.rcParams.get('figure.figsize')\n",
    "\n",
    "    if xyticks==False:\n",
    "        #Do not show categories if xyticks is False\n",
    "        categories=False\n",
    "\n",
    "\n",
    "    # MAKE THE HEATMAP VISUALIZATION\n",
    "    plt.figure(figsize=figsize)\n",
    "    sns.heatmap(cf,annot=box_labels,fmt=\"\",cmap=cmap,cbar=cbar,xticklabels=categories,yticklabels=categories)\n",
    "\n",
    "    if xyplotlabels:\n",
    "        plt.ylabel('True label')\n",
    "        plt.xlabel('Predicted label' + stats_text)\n",
    "    else:\n",
    "        plt.xlabel(stats_text)\n",
    "    \n",
    "    if title:\n",
    "        plt.title(title)"
   ]
  },
  {
   "cell_type": "code",
   "execution_count": 32,
   "metadata": {},
   "outputs": [
    {
     "data": {
      "image/png": "[encoded data removed]",
      "text/plain": [
       "<Figure size 432x288 with 2 Axes>"
      ]
     },
     "metadata": {},
     "output_type": "display_data"
    }
   ],
   "source": [
    "labels = ['True Neg','False Pos','False Neg','True Pos']\n",
    "categories = ['Zero', 'One','Two']\n",
    "make_confusion_matrix(conf_mat, \n",
    "                      group_names=labels,\n",
    "                      categories=categories)"
   ]
  },
  {
   "cell_type": "code",
   "execution_count": 95,
   "metadata": {},
   "outputs": [
    {
     "name": "stdout",
     "output_type": "stream",
     "text": [
      "[8786  894  174]\n",
      "[44  4  9]\n",
      "[ 5  7 45]\n",
      "[8786  894  174]\n",
      "[44  4  9]\n",
      "[ 5  7 45]\n",
      "[1076, 9006, 9683]\n",
      "True\n",
      "True\n",
      "True\n"
     ]
    }
   ],
   "source": [
    "TP = np.diag(conf_mat)\n",
    "print(TP)\n",
    "FP = np.sum(conf_mat, axis=0) - TP\n",
    "print(FP)\n",
    "FN = np.sum(conf_mat, axis=1) - TP\n",
    "print(FN)\n",
    "num_classes = 3\n",
    "TN = []\n",
    "for i in range(num_classes):\n",
    "    temp = np.delete(conf_mat, i, 0)    # delete ith row\n",
    "    temp = np.delete(temp, i, 1)  # delete ith column\n",
    "    TN.append(sum(sum(temp)))\n",
    "#to heck\n",
    "print(TP)\n",
    "print(FP)\n",
    "print(FN)\n",
    "print(TN)\n",
    "l = 9911\n",
    "for i in range(num_classes):\n",
    "    print(TP[i] + FP[i] + FN[i] + TN[i] == l)   \n"
   ]
  },
  {
   "cell_type": "code",
   "execution_count": 93,
   "metadata": {},
   "outputs": [
    {
     "name": "stdout",
     "output_type": "stream",
     "text": [
      "[0.99501699 0.99554566 0.95081967]\n",
      "[0.99943124 0.99223085 0.79452055]\n",
      "[0.99721923 0.99388549 0.86567164]\n"
     ]
    }
   ],
   "source": [
    "precision = TP/(TP+FP)\n",
    "recall = TP/(TP+FN)\n",
    "specificity= TN/(TN+FP)\n",
    "Sensitivity =TP/(TP+FN)\n",
    "print(precision)\n",
    "print(recall)\n",
    "f1_score  = 2*precision*recall / (precision + recall)\n",
    "print(f1_score)\n",
    "print(specificity)\n",
    "print(Sensitivity)"
   ]
  },
  {
   "cell_type": "code",
   "execution_count": null,
   "metadata": {},
   "outputs": [],
   "source": []
  }
 ],
 "metadata": {
  "kernelspec": {
   "display_name": "Python 3",
   "language": "python",
   "name": "python3"
  },
  "language_info": {
   "codemirror_mode": {
    "name": "ipython",
    "version": 3
   },
   "file_extension": ".py",
   "mimetype": "text/x-python",
   "name": "python",
   "nbconvert_exporter": "python",
   "pygments_lexer": "ipython3",
   "version": "3.6.12"
  }
 },
 "nbformat": 4,
 "nbformat_minor": 4
}
